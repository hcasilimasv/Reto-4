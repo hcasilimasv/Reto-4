{
 "cells": [
  {
   "cell_type": "code",
   "execution_count": 65,
   "metadata": {},
   "outputs": [
    {
     "name": "stdout",
     "output_type": "stream",
     "text": [
      "El numero 56 no pertenece a una vocal minuscula del codigo ASCII ingresar un numero valido\n"
     ]
    }
   ],
   "source": [
    "n = int(input(\"Ingrese un numero entero\"))\n",
    "if n >= 97 and n <= 122:\n",
    "    print(\"El numero \" + str(n) + \" pertenece a una vocal minuscula del codigo ASCII \")\n",
    "else:\n",
    "    print(\"El numero \" + str(n) + \" no pertenece a una vocal minuscula del codigo ASCII \"  \"ingresar un numero valido\")"
   ]
  },
  {
   "cell_type": "code",
   "execution_count": 67,
   "metadata": {},
   "outputs": [
    {
     "name": "stdout",
     "output_type": "stream",
     "text": [
      "Error. Debes ingresar exactamente un dígito\n"
     ]
    }
   ],
   "source": [
    "a = input(\"Ingresa una cadena de longitud 1: \")\n",
    "if len(a) == 1 and a.isdigit():\n",
    "    n = int(a)\n",
    "    if n % 2 == 0:\n",
    "        print(\"El dígito \" + str(n) + \" es par\")\n",
    "    else:\n",
    "        print(\"El dígito \" + str(n) + \" no es par\")\n",
    "else:\n",
    "    print(\"Error. Debes ingresar exactamente un dígito\")    "
   ]
  },
  {
   "cell_type": "code",
   "execution_count": 69,
   "metadata": {},
   "outputs": [
    {
     "name": "stdout",
     "output_type": "stream",
     "text": [
      "El carácter 9 es de un solo dígito.\n"
     ]
    }
   ],
   "source": [
    "c = input(\"Ingresa un carácter: \")\n",
    "if len(c) == 1 and c.isdigit():\n",
    "    m = int(c)\n",
    "    if -9 <= m <= 9:\n",
    "        print(\"El carácter \" + str(m) + \" es de un solo dígito.\")\n",
    "else:\n",
    "    print(\"Error. El carácter no es un dígito o no es de un solo dígito.\")"
   ]
  },
  {
   "cell_type": "code",
   "execution_count": 70,
   "metadata": {},
   "outputs": [
    {
     "name": "stdout",
     "output_type": "stream",
     "text": [
      "El numero 59.0 es positivo\n"
     ]
    }
   ],
   "source": [
    "x : float\n",
    "x = float(input(\"Ingrese un numero entero: \"))\n",
    "if x > 0:\n",
    "  print(\"El numero \"+str(x)+\" es positivo\")\n",
    "elif x < 0:\n",
    "  print(\"El numero \"+str(x)+\" es negativo\")\n",
    "else:\n",
    "  print(\"El numero \"+str(x)+\" es neutro\")"
   ]
  },
  {
   "cell_type": "code",
   "execution_count": 71,
   "metadata": {},
   "outputs": [
    {
     "name": "stdout",
     "output_type": "stream",
     "text": [
      "El punto (58.0, 60.0) está en el interior del círculo.\n"
     ]
    }
   ],
   "source": [
    "def c(x_punto, y_punto, centro_x, centro_y, radio):\n",
    "    c_centro = ((x_punto - centro_x)**2 + (y_punto - centro_y)**2)**0.5\n",
    "    if c_centro < radio:\n",
    "        return True\n",
    "    else:\n",
    "        return False\n",
    "try:\n",
    "    x = float(input(\"Ingrese la coordenada x del punto: \"))\n",
    "    y = float(input(\"Ingrese la coordenada y del punto: \"))\n",
    "    centro_x = float(input(\"Ingrese la coordenada x del centro del círculo: \"))\n",
    "    centro_y = float(input(\"Ingrese la coordenada y del centro del círculo: \"))\n",
    "    radio = float(input(\"Ingrese el radio del círculo: \"))\n",
    "    if c(x, y, centro_x, centro_y, radio):\n",
    "        print(f\"El punto ({x}, {y}) está en el interior del círculo.\")\n",
    "    else:\n",
    "        print(f\"El punto ({x}, {y}) no está en el interior del círculo.\")\n",
    "except ValueError:\n",
    "    print(\"Ingrese coordenadas válidas (números).\")"
   ]
  },
  {
   "cell_type": "code",
   "execution_count": 72,
   "metadata": {},
   "outputs": [
    {
     "name": "stdout",
     "output_type": "stream",
     "text": [
      "Con estas longitudes se puede construir un triángulo.\n"
     ]
    }
   ],
   "source": [
    "def t (a, b, c):\n",
    "    if a <= 0 or b <= 0 or c <= 0:\n",
    "        return False\n",
    "    if a + b > c and a + c > b and b + c > a:\n",
    "        return True\n",
    "    else:\n",
    "        return False\n",
    "try:\n",
    "    l1 = float(input(\"Digite la longitud del primer lado: \"))\n",
    "    l2 = float(input(\"Digite la longitud del segundo lado: \"))\n",
    "    l3 = float(input(\"Digite la longitud del tercer lado: \"))\n",
    "    if es_triangulo(l1, l2, l3):\n",
    "        print(\"Con estas longitudes se puede construir un triángulo.\")\n",
    "    else:\n",
    "        print(\"Con estas longitudes no se puede construir un triángulo.\")\n",
    "except ValueError:\n",
    "    print(\"Digite solo números positivos.\")"
   ]
  }
 ],
 "metadata": {
  "kernelspec": {
   "display_name": "Python 3",
   "language": "python",
   "name": "python3"
  },
  "language_info": {
   "codemirror_mode": {
    "name": "ipython",
    "version": 3
   },
   "file_extension": ".py",
   "mimetype": "text/x-python",
   "name": "python",
   "nbconvert_exporter": "python",
   "pygments_lexer": "ipython3",
   "version": "3.11.8"
  }
 },
 "nbformat": 4,
 "nbformat_minor": 2
}
